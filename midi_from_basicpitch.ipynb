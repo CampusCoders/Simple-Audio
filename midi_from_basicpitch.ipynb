{
  "cells": [
    {
      "cell_type": "code",
      "execution_count": null,
      "metadata": {
        "id": "OgCIIrmhOjag"
      },
      "outputs": [],
      "source": [
        "try:\n",
        "    import tensorflow as tf\n",
        "    from basic_pitch import ICASSP_2022_MODEL_PATH\n",
        "    from basic_pitch.inference import predict_and_save\n",
        "    import librosa\n",
        "\n",
        "    !apt install --allow-change-held-packages libcudnn8=8.1.0.77-1+cuda11.2\n",
        "\n",
        "    # TensorFlow sürümünü kontrol et\n",
        "    required_tensorflow_version = \"2.8.0\"\n",
        "    installed_tensorflow_version = tf.__version__\n",
        "\n",
        "    if installed_tensorflow_version != required_tensorflow_version:\n",
        "        !pip uninstall -y tensorflow && pip install -q tensorflow==2.8.0\n",
        "\n",
        "    # Librosa versiyonunu kontrol et\n",
        "    required_librosa_version = \"0.8.1\"\n",
        "    installed_librosa_version = librosa.__version__\n",
        "\n",
        "    if installed_librosa_version != required_librosa_version:\n",
        "        !pip uninstall -y librosa && pip install librosa==0.8.1\n",
        "\n",
        "    import shutil\n",
        "    import os\n",
        "\n",
        "except ImportError:\n",
        "    !pip uninstall -y tensorflow && pip install -q tensorflow==2.8.0\n",
        "    !apt install --allow-change-held-packages libcudnn8=8.1.0.77-1+cuda11.2\n",
        "    !pip install basic-pitch\n",
        "    !pip uninstall -y librosa && pip install librosa==0.8.1\n",
        "    import shutil\n",
        "    import os\n"
      ]
    },
    {
      "cell_type": "code",
      "execution_count": null,
      "metadata": {
        "id": "vLMJTKf3OsQz"
      },
      "outputs": [],
      "source": [
        "from basic_pitch import ICASSP_2022_MODEL_PATH\n",
        "from basic_pitch.inference import predict_and_save\n",
        "import librosa\n",
        "import tensorflow as tf\n",
        "import shutil\n",
        "import os\n",
        "\n",
        "# Giriş ses dosyasının bulunduğu dosya yolu\n",
        "input_audio_path = \"/content/separated_input/separated_to_midi.wav\"\n",
        "\n",
        "# Çıkış dosyalarının kaydedileceği dizin\n",
        "output_directory = \"/content/output\"\n",
        "\n",
        "# Basic Pitch modelini yükleyin\n",
        "basic_pitch_model = tf.saved_model.load(str(ICASSP_2022_MODEL_PATH))\n",
        "\n",
        "# Transkripsiyonu yap ve çeşitli formatlarda kaydet\n",
        "predict_and_save(\n",
        "    [input_audio_path],\n",
        "    output_directory,\n",
        "    save_midi=True,\n",
        "    sonify_midi=True,\n",
        "    save_model_outputs=True,\n",
        "    save_notes=True,\n",
        ")\n",
        "\n",
        "# Input Klasör içeriğini sil\n",
        "success = True  # Başarı durumunu takip etmek için bir bayrak\n",
        "\n",
        "delete_input = \"/content/separated_input\"\n",
        "\n",
        "for file in os.listdir(delete_input):\n",
        "    file_path = os.path.join(delete_input, file)\n",
        "    try:\n",
        "        if os.path.isfile(file_path) or os.path.islink(file_path):\n",
        "            os.unlink(file_path)\n",
        "        elif os.path.isdir(file_path):\n",
        "            shutil.rmtree(file_path)\n",
        "    except Exception as e:\n",
        "        success = False\n",
        "\n",
        "# Başarı durumuna göre yazı yazdır\n",
        "if success:\n",
        "    print(\"Seperated Input klasörü içeriği başarıyla silindi.\")\n",
        "else:\n",
        "    print(f\"Klasör içeriği silme başarısız {file_path}. Neden: {e}\")\n",
        "\n"
      ]
    }
  ],
  "metadata": {
    "colab": {
      "provenance": []
    },
    "kernelspec": {
      "display_name": "Python 3 (ipykernel)",
      "language": "python",
      "name": "python3"
    },
    "language_info": {
      "codemirror_mode": {
        "name": "ipython",
        "version": 3
      },
      "file_extension": ".py",
      "mimetype": "text/x-python",
      "name": "python",
      "nbconvert_exporter": "python",
      "pygments_lexer": "ipython3",
      "version": "3.11.5"
    }
  },
  "nbformat": 4,
  "nbformat_minor": 0
}