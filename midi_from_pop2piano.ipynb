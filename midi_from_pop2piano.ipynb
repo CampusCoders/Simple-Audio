{
  "cells": [
    {
      "cell_type": "code",
      "execution_count": null,
      "metadata": {
        "id": "qmkz61oDYVd0"
      },
      "outputs": [],
      "source": [
        "  # Copyright [2022] [pop2piano]\n",
        "  #      Licensed under the Apache License, Version 2.0 (the \"License\");\n",
        "  #      you may not use this file except in compliance with the License.\n",
        "  #      You may obtain a copy of the License at\n",
        "  #         http://www.apache.org/licenses/LICENSE-2.0\n",
        "  #      Unless required by applicable law or agreed to in writing, software\n",
        "  #      distributed under the License is distributed on an \"AS IS\" BASIS,\n",
        "  #      WITHOUT WARRANTIES OR CONDITIONS OF ANY KIND, either express or implied.\n",
        "  #      See the License for the specific language governing permissions and\n",
        "  #      limitations under the License.\n",
        "\n",
        "#@title Setup Environment\n",
        "#@markdown - Install Pop2Piano and its dependencies (may take a few minutes).\n",
        "#@markdown - We highly recommend to use a GPU runtime.\n",
        "#@markdown - click: Runtime >> Change Runtime Type >> GPU\n",
        "import os\n",
        "\n",
        "model_path = '/content/model-1999-val_0.67311615.ckpt'\n",
        "\n",
        "if not os.path.exists(model_path):\n",
        "    # Model dosyası zaten mevcut değilse indir\n",
        "    !wget https://github.com/sweetcocoa/pop2piano/releases/download/dpi_2k_epoch/model-1999-val_0.67311615.ckpt\n",
        "else:\n",
        "    print(\"Model zaten mevcut.\")\n",
        "\n",
        "!apt-get install -y fluidsynth\n",
        "!git clone https://github.com/sweetcocoa/pop2piano/\n",
        "!cd pop2piano\n",
        "!pip install pretty-midi==0.2.9 omegaconf==2.1.1 youtube-dl==2021.12.17 transformers==4.16.1 pytorch-lightning==1.8.4 essentia==2.1b6.dev1034 note-seq==0.0.5 pyFluidSynth==1.3.0"
      ]
    },
    {
      "cell_type": "code",
      "execution_count": 68,
      "metadata": {
        "id": "uep2XHwSYonZ"
      },
      "outputs": [],
      "source": [
        "#@title Import codes\n",
        "\n",
        "import os\n",
        "import sys\n",
        "sys.path.append(\"pop2piano\")\n",
        "import glob\n",
        "import random\n",
        "import shutil\n",
        "\n",
        "import torch\n",
        "import torchaudio\n",
        "import librosa\n",
        "import numpy as np\n",
        "import pandas as pd\n",
        "import IPython.display as ipd\n",
        "import soundfile as sf\n",
        "from google.colab import files\n",
        "\n",
        "from tqdm.auto import tqdm\n",
        "from omegaconf import OmegaConf\n",
        "import note_seq\n",
        "\n",
        "from utils.dsp import get_stereo\n",
        "from utils.demo import download_youtube\n",
        "from transformer_wrapper import TransformerWrapper\n",
        "from midi_tokenizer import MidiTokenizer, extrapolate_beat_times\n",
        "from preprocess.beat_quantizer import extract_rhythm, interpolate_beat_times"
      ]
    },
    {
      "cell_type": "code",
      "execution_count": null,
      "metadata": {
        "id": "31GCah7G6LgQ"
      },
      "outputs": [],
      "source": [
        "device = \"cuda\" if torch.cuda.is_available() else \"cpu\"\n",
        "config = OmegaConf.load(\"pop2piano/config.yaml\")\n",
        "wrapper = TransformerWrapper(config)\n",
        "wrapper = wrapper.load_from_checkpoint(\"model-1999-val_0.67311615.ckpt\", config=config).to(device)\n",
        "model = \"dpipqxiy\"\n",
        "wrapper.eval()\n",
        "\"\""
      ]
    },
    {
      "cell_type": "code",
      "execution_count": 71,
      "metadata": {
        "id": "PaxFoU8AGdY-"
      },
      "outputs": [],
      "source": [
        "#@title Select Arranger(Composer)\n",
        "\n",
        "composer = \"composer1\" #@param['composer1', 'composer2', 'composer3', 'composer4', 'composer5', 'composer6', 'composer7', 'composer8', 'composer9', 'composer10', 'composer11', 'composer12', 'composer13', 'composer14', 'composer15', 'composer16', 'composer17', 'composer18', 'composer19', 'composer20', 'composer21']"
      ]
    },
    {
      "cell_type": "code",
      "execution_count": 92,
      "metadata": {
        "id": "Fu_9J3T5HYtn"
      },
      "outputs": [],
      "source": [
        "# Giriş ses dosyasının bulunduğu dosya yolu\n",
        "input_audio_path = \"/content/input/audio_to_midi.wav\"\n",
        "\n",
        "# Çıkış dosyalarının kaydedileceği dizin\n",
        "output_directory = \"/content/output\"\n",
        "\n",
        "#@title Upload audio file (Supports : An audio file like wav, mp3)\n",
        "audio_file = input_audio_path"
      ]
    },
    {
      "cell_type": "code",
      "execution_count": 93,
      "metadata": {
        "id": "2YdzBvH7_Mi-"
      },
      "outputs": [],
      "source": [
        "#@title Result\n",
        "\n",
        "pm, composer, mix_path, midi_path = wrapper.generate(\n",
        "    audio_path=audio_file,\n",
        "    composer=composer,\n",
        "    model=model,\n",
        "    show_plot=False,\n",
        "    save_midi=True,\n",
        "    save_mix=True,\n",
        ")"
      ]
    },
    {
      "cell_type": "code",
      "execution_count": null,
      "metadata": {
        "id": "QPFXcxnZNfb9"
      },
      "outputs": [],
      "source": [
        "if os.path.exists(midi_path):\n",
        "    base_name = os.path.basename(midi_path)\n",
        "    new_path = os.path.join(output_directory, base_name)\n",
        "\n",
        "    # Hedef klasörde aynı isimde bir dosya varsa, uyarı ver\n",
        "    if os.path.exists(new_path):\n",
        "        os.remove(new_path)\n",
        "        shutil.move(midi_path, new_path)\n",
        "    else:\n",
        "        shutil.move(midi_path, new_path)\n",
        "else:\n",
        "    print(f\"Dosya bulunamadı: {midi_path}\")\n",
        "\n",
        "if os.path.exists(mix_path):\n",
        "    base_name = os.path.basename(mix_path)\n",
        "    new_path = os.path.join(output_directory, base_name)\n",
        "\n",
        "    # Hedef klasörde aynı isimde bir dosya varsa, uyarı ver\n",
        "    if os.path.exists(new_path):\n",
        "        os.remove(new_path)\n",
        "        shutil.move(mix_path, new_path)\n",
        "    else:\n",
        "        shutil.move(mix_path, new_path)\n",
        "else:\n",
        "    print(f\"Dosya bulunamadı: {mix_path}\")\n"
      ]
    },
    {
      "cell_type": "code",
      "execution_count": null,
      "metadata": {},
      "outputs": [],
      "source": [
        "# Input Klasör içeriğini sil\n",
        "success = True  # Başarı durumunu takip etmek için bir bayrak\n",
        "\n",
        "delete_input = \"/content/input\"\n",
        "\n",
        "for file in os.listdir(delete_input):\n",
        "    file_path = os.path.join(delete_input, file)\n",
        "    try:\n",
        "        if os.path.isfile(file_path) or os.path.islink(file_path):\n",
        "            os.unlink(file_path)\n",
        "        elif os.path.isdir(file_path):\n",
        "            shutil.rmtree(file_path)\n",
        "    except Exception as e:\n",
        "        success = False\n",
        "\n",
        "# Başarı durumuna göre yazı yazdır\n",
        "if success:\n",
        "    print(\"Seperated Input klasörü içeriği başarıyla silindi.\")\n",
        "else:\n",
        "    print(f\"Klasör içeriği silme başarısız {file_path}. Neden: {e}\")"
      ]
    }
  ],
  "metadata": {
    "accelerator": "GPU",
    "colab": {
      "gpuType": "T4",
      "provenance": []
    },
    "kernelspec": {
      "display_name": "Python 3",
      "name": "python3"
    },
    "language_info": {
      "name": "python"
    }
  },
  "nbformat": 4,
  "nbformat_minor": 0
}
